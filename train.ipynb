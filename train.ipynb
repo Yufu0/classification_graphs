{
 "cells": [
  {
   "cell_type": "code",
   "execution_count": 26,
   "id": "initial_id",
   "metadata": {
    "collapsed": true,
    "ExecuteTime": {
     "end_time": "2024-03-07T19:07:11.995221Z",
     "start_time": "2024-03-07T19:07:11.992750Z"
    }
   },
   "outputs": [],
   "source": [
    "import json\n",
    "import networkx as nx\n",
    "import dgl\n",
    "from matplotlib import pyplot as plt\n",
    "import torch\n",
    "import torch.nn as nn\n",
    "import torch.nn.functional as F"
   ]
  },
  {
   "cell_type": "code",
   "outputs": [],
   "source": [
    "json_file = 'elyzee_data/elyzee_train.json'\n",
    "graph_networkx = nx.node_link_graph(json.load(open(json_file)))\n",
    "\n",
    "graph_networkx = graph_networkx.to_directed()"
   ],
   "metadata": {
    "collapsed": false,
    "ExecuteTime": {
     "end_time": "2024-03-07T19:07:14.701096Z",
     "start_time": "2024-03-07T19:07:12.358207Z"
    }
   },
   "id": "be7a97cec01c19ab",
   "execution_count": 27
  },
  {
   "cell_type": "code",
   "outputs": [
    {
     "name": "stdout",
     "output_type": "stream",
     "text": [
      "999 fi\n",
      "7\n"
     ]
    }
   ],
   "source": [
    "idx = list(graph_networkx.nodes)\n",
    "# print(idx)\n",
    "\n",
    "node_0 = graph_networkx.nodes[idx[0]]\n",
    "print(len(node_0['features']), node_0['affiliation'])"
   ],
   "metadata": {
    "collapsed": false,
    "ExecuteTime": {
     "end_time": "2024-03-07T19:12:37.727378Z",
     "start_time": "2024-03-07T19:12:37.721729Z"
    }
   },
   "id": "e828a79c8701654c",
   "execution_count": 49
  },
  {
   "cell_type": "code",
   "outputs": [],
   "source": [
    "# plt.figure(figsize=[15,7])\n",
    "# nx.draw(graph_networkx, with_labels=True, font_weight='bold')"
   ],
   "metadata": {
    "collapsed": false,
    "ExecuteTime": {
     "end_time": "2024-03-07T19:12:37.962055Z",
     "start_time": "2024-03-07T19:12:37.957006Z"
    }
   },
   "id": "aa92928aeab30b70",
   "execution_count": 50
  },
  {
   "cell_type": "code",
   "outputs": [
    {
     "name": "stdout",
     "output_type": "stream",
     "text": [
      "Graph(num_nodes=5507, num_edges=19284,\n",
      "      ndata_schemes={'features': Scheme(shape=(999,), dtype=torch.float32)}\n",
      "      edata_schemes={})\n",
      "torch.Size([5507, 999])\n"
     ]
    }
   ],
   "source": [
    "graph_dgl = dgl.from_networkx(graph_networkx, node_attrs=['features'])\n",
    "print(graph_dgl)\n",
    "print(graph_dgl.ndata['features'].shape)"
   ],
   "metadata": {
    "collapsed": false,
    "ExecuteTime": {
     "end_time": "2024-03-07T19:12:38.820067Z",
     "start_time": "2024-03-07T19:12:38.177319Z"
    }
   },
   "id": "5f8caef0723b2d53",
   "execution_count": 51
  },
  {
   "cell_type": "code",
   "outputs": [
    {
     "name": "stdout",
     "output_type": "stream",
     "text": [
      "number classes : 7\n",
      "{'fi': 0, 'indetermined': 1, 'ps': 2, 'multi_affiliations': 3, 'lr': 4, 'fn': 5, 'em': 6}\n",
      "torch.Size([5507, 7])\n"
     ]
    }
   ],
   "source": [
    "labels = [node['affiliation'] for node in graph_networkx.nodes.values()]\n",
    "num_classes = len(set(labels))\n",
    "print(\"number classes :\", num_classes)\n",
    "\n",
    "labels_dict = {label: i for i, label in enumerate(set(labels))}\n",
    "print(labels_dict)\n",
    "\n",
    "labels = [labels_dict[label] for label in labels]\n",
    "\n",
    "labels = F.one_hot(torch.tensor(labels))\n",
    "labels = labels.float()\n",
    "print(labels.shape)"
   ],
   "metadata": {
    "collapsed": false,
    "ExecuteTime": {
     "end_time": "2024-03-07T19:32:21.439569Z",
     "start_time": "2024-03-07T19:32:21.432546Z"
    }
   },
   "id": "c05734ac0707c3d9",
   "execution_count": 100
  },
  {
   "cell_type": "code",
   "outputs": [],
   "source": [
    "\n",
    "\n",
    "# Define the message & reduce function\n",
    "# NOTE: we ignore the GCN's normalization constant c_ij for this tutorial.\n",
    "def gcn_message(edges):\n",
    "    # The argument is a batch of edges.\n",
    "    # This computes a (batch of) message called 'msg' using the source node's feature 'h'.\n",
    "    return {'msg' : edges.src['h']}\n",
    "\n",
    "def gcn_reduce(nodes):\n",
    "    # The argument is a batch of nodes.\n",
    "    # This computes the new 'h' features by summing received 'msg' in each node's mailbox.\n",
    "    return {'h' : torch.sum(nodes.mailbox['msg'], dim=1)}\n",
    "\n",
    "# Define the GCNLayer module\n",
    "class GCNLayer(nn.Module):\n",
    "    def __init__(self, in_feats, out_feats):\n",
    "        super(GCNLayer, self).__init__()\n",
    "        self.linear = nn.Linear(in_feats, out_feats)\n",
    "\n",
    "    def forward(self, g, inputs):\n",
    "        # g is the graph and the inputs is the input node features\n",
    "        # first set the node features\n",
    "        g.ndata['h'] = inputs\n",
    "        g.send_and_recv(g.edges(), gcn_message, gcn_reduce)\n",
    "        # get the result node features\n",
    "        h = g.ndata.pop('h')\n",
    "        # perform linear transformation\n",
    "        return self.linear(h)"
   ],
   "metadata": {
    "collapsed": false,
    "ExecuteTime": {
     "end_time": "2024-03-07T19:32:22.403382Z",
     "start_time": "2024-03-07T19:32:22.397966Z"
    }
   },
   "id": "3a152cb196dd13bf",
   "execution_count": 101
  },
  {
   "cell_type": "code",
   "outputs": [],
   "source": [
    "# Define a 2-layer GCN model\n",
    "class GCN(nn.Module):\n",
    "    def __init__(self, in_feats, hidden_size, num_classes):\n",
    "        super(GCN, self).__init__()\n",
    "        self.gcn1 = GCNLayer(in_feats, hidden_size)\n",
    "        self.gcn2 = GCNLayer(hidden_size, num_classes)\n",
    "\n",
    "    def forward(self, g, inputs):\n",
    "        h = self.gcn1(g, inputs)\n",
    "        h = torch.relu(h)\n",
    "        h = self.gcn2(g, h)\n",
    "        return h\n"
   ],
   "metadata": {
    "collapsed": false,
    "ExecuteTime": {
     "end_time": "2024-03-07T19:32:22.618261Z",
     "start_time": "2024-03-07T19:32:22.615174Z"
    }
   },
   "id": "a985b0e1d14652d1",
   "execution_count": 102
  },
  {
   "cell_type": "code",
   "outputs": [],
   "source": [
    "model = GCN(in_feats=5507, hidden_size=1000, num_classes=7)"
   ],
   "metadata": {
    "collapsed": false,
    "ExecuteTime": {
     "end_time": "2024-03-07T19:32:22.868493Z",
     "start_time": "2024-03-07T19:32:22.835126Z"
    }
   },
   "id": "567fc0852457b333",
   "execution_count": 103
  },
  {
   "cell_type": "code",
   "outputs": [],
   "source": [
    "inputs = torch.eye(5507)"
   ],
   "metadata": {
    "collapsed": false,
    "ExecuteTime": {
     "end_time": "2024-03-07T19:36:43.366545Z",
     "start_time": "2024-03-07T19:36:43.330192Z"
    }
   },
   "id": "801db15b75e947c0",
   "execution_count": 107
  },
  {
   "cell_type": "code",
   "outputs": [
    {
     "name": "stdout",
     "output_type": "stream",
     "text": [
      "Epoch 0 | Loss: 1.8141\n",
      "Epoch 1 | Loss: 1.9496\n",
      "Epoch 2 | Loss: 1.9058\n",
      "Epoch 3 | Loss: 1.8770\n",
      "Epoch 4 | Loss: 1.8381\n",
      "Epoch 5 | Loss: 1.8330\n",
      "Epoch 6 | Loss: 1.8306\n",
      "Epoch 7 | Loss: 1.8300\n",
      "Epoch 8 | Loss: 1.8283\n",
      "Epoch 9 | Loss: 1.8238\n",
      "Epoch 10 | Loss: 1.8196\n",
      "Epoch 11 | Loss: 1.8186\n",
      "Epoch 12 | Loss: 1.8178\n",
      "Epoch 13 | Loss: 1.8171\n",
      "Epoch 14 | Loss: 1.8163\n",
      "Epoch 15 | Loss: 1.8155\n",
      "Epoch 16 | Loss: 1.8148\n",
      "Epoch 17 | Loss: 1.8140\n"
     ]
    }
   ],
   "source": [
    "optimizer = torch.optim.Adam(model.parameters(), lr=0.01)\n",
    "all_logits = []\n",
    "for epoch in range(30):\n",
    "    logits = model(graph_dgl, inputs)\n",
    "    # we save the logits for visualization later\n",
    "    all_logits.append(logits.detach())\n",
    "    logp = F.log_softmax(logits, 1)\n",
    "    # we only compute loss for labeled nodes\n",
    "    loss = F.cross_entropy(logp, labels)\n",
    "\n",
    "    optimizer.zero_grad()\n",
    "    loss.backward()\n",
    "    optimizer.step()\n",
    "\n",
    "    print('Epoch %d | Loss: %.4f' % (epoch, loss.item()))       "
   ],
   "metadata": {
    "collapsed": false,
    "is_executing": true,
    "ExecuteTime": {
     "start_time": "2024-03-07T19:36:44.990833Z"
    }
   },
   "id": "6c266610a5a5edf4",
   "execution_count": null
  },
  {
   "cell_type": "code",
   "outputs": [],
   "source": [],
   "metadata": {
    "collapsed": false
   },
   "id": "ca53b1242af4f2ac"
  }
 ],
 "metadata": {
  "kernelspec": {
   "display_name": "Python 3",
   "language": "python",
   "name": "python3"
  },
  "language_info": {
   "codemirror_mode": {
    "name": "ipython",
    "version": 2
   },
   "file_extension": ".py",
   "mimetype": "text/x-python",
   "name": "python",
   "nbconvert_exporter": "python",
   "pygments_lexer": "ipython2",
   "version": "2.7.6"
  }
 },
 "nbformat": 4,
 "nbformat_minor": 5
}
