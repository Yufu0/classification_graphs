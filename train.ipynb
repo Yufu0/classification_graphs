{
 "cells": [
  {
   "cell_type": "code",
   "execution_count": 199,
   "id": "initial_id",
   "metadata": {
    "collapsed": true,
    "ExecuteTime": {
     "end_time": "2024-03-12T16:01:51.875359Z",
     "start_time": "2024-03-12T16:01:51.867705Z"
    }
   },
   "outputs": [],
   "source": [
    "import json\n",
    "import networkx as nx\n",
    "import torch\n",
    "import torch.nn as nn\n",
    "import torch.nn.functional as F\n",
    "from torch_geometric.utils.convert import from_networkx\n",
    "from torch_geometric.nn import GCNConv"
   ]
  },
  {
   "cell_type": "code",
   "outputs": [],
   "source": [
    "json_file = 'elyzee_data/elyzee_train.json'\n",
    "graph_train_networkx = nx.node_link_graph(json.load(open(json_file)))\n",
    "\n",
    "json_file = 'elyzee_data/elyzee_test.json'\n",
    "graph_test_networkx = nx.node_link_graph(json.load(open(json_file)))"
   ],
   "metadata": {
    "collapsed": false,
    "ExecuteTime": {
     "end_time": "2024-03-12T16:01:55.323887Z",
     "start_time": "2024-03-12T16:01:51.902858Z"
    }
   },
   "id": "1991002ece3030f2",
   "execution_count": 200
  },
  {
   "cell_type": "code",
   "outputs": [],
   "source": [
    "num_classes = 7\n",
    "labels_dict = {\n",
    "    'lr': 0, \n",
    "    'em': 1, \n",
    "    'fn': 2, \n",
    "    'fi': 3, \n",
    "    'ps': 4,\n",
    "    'multi_affiliations': 5, \n",
    "    'indetermined': 6\n",
    "}\n",
    "node_id = list(graph_train_networkx.nodes)[0]\n",
    "num_features = len(graph_train_networkx.nodes[node_id]['features'])"
   ],
   "metadata": {
    "collapsed": false,
    "ExecuteTime": {
     "end_time": "2024-03-12T16:01:55.335347Z",
     "start_time": "2024-03-12T16:01:55.326816Z"
    }
   },
   "id": "59981d07cab76e13",
   "execution_count": 201
  },
  {
   "cell_type": "code",
   "outputs": [
    {
     "name": "stdout",
     "output_type": "stream",
     "text": [
      "Train : Data(edge_index=[2, 19284], features=[5507, 999], affiliation=[5507], num_nodes=5507)\n",
      "Test : Data(edge_index=[2, 6402], features=[2222, 999], affiliation=[2222], num_nodes=2222)\n"
     ]
    }
   ],
   "source": [
    "graph_train_torch = from_networkx(graph_train_networkx)\n",
    "graph_test_torch = from_networkx(graph_test_networkx)\n",
    "print(\"Train :\",graph_train_torch)\n",
    "print(\"Test :\",graph_test_torch)"
   ],
   "metadata": {
    "collapsed": false,
    "ExecuteTime": {
     "end_time": "2024-03-12T16:02:03.558483Z",
     "start_time": "2024-03-12T16:01:55.337680Z"
    }
   },
   "id": "4a776a1b4a0557ea",
   "execution_count": 202
  },
  {
   "cell_type": "code",
   "outputs": [
    {
     "name": "stdout",
     "output_type": "stream",
     "text": [
      "Train labels : torch.Size([5507, 7])\n",
      "Test labels : torch.Size([2222, 7])\n"
     ]
    }
   ],
   "source": [
    "graph_train_torch.labels = F.one_hot(torch.tensor(\n",
    "    [labels_dict[affiliation] for affiliation in graph_train_torch.affiliation]\n",
    ")).float()\n",
    "graph_test_torch.labels = F.one_hot(torch.tensor(\n",
    "    [labels_dict[affiliation] for affiliation in graph_test_torch.affiliation]\n",
    ")).float()\n",
    "print(\"Train labels :\", graph_train_torch.labels.shape)\n",
    "print(\"Test labels :\", graph_test_torch.labels.shape)\n"
   ],
   "metadata": {
    "collapsed": false,
    "ExecuteTime": {
     "end_time": "2024-03-12T16:02:03.584160Z",
     "start_time": "2024-03-12T16:02:03.561827Z"
    }
   },
   "id": "56086af6fb8d4f9d",
   "execution_count": 203
  },
  {
   "cell_type": "code",
   "outputs": [],
   "source": [
    "class GCN(torch.nn.Module):\n",
    "    def __init__(self, hidden_channels):\n",
    "        super(GCN, self).__init__()\n",
    "\n",
    "        # Initialize the layers\n",
    "        self.conv1 = GCNConv(num_features, hidden_channels)\n",
    "        self.conv2 = GCNConv(hidden_channels, hidden_channels)\n",
    "        self.linear = nn.Linear(hidden_channels, num_classes)\n",
    "\n",
    "    def forward(self, x, edge_index):\n",
    "        # First Message Passing Layer\n",
    "        x = self.conv1(x, edge_index)\n",
    "        x = x.relu()\n",
    "        x = F.dropout(x, p=0.5, training=self.training)\n",
    "\n",
    "        # Second Message Passing Layer\n",
    "        x = self.conv2(x, edge_index)\n",
    "        x = x.relu()\n",
    "        x = F.dropout(x, p=0.5, training=self.training)\n",
    "        \n",
    "        # Output layer + softmax\n",
    "        x = self.linear(x)\n",
    "        x = F.softmax(x, dim=1)\n",
    "        return x"
   ],
   "metadata": {
    "collapsed": false,
    "ExecuteTime": {
     "end_time": "2024-03-12T16:02:03.600858Z",
     "start_time": "2024-03-12T16:02:03.589368Z"
    }
   },
   "id": "b58299cc7d65a156",
   "execution_count": 204
  },
  {
   "cell_type": "code",
   "outputs": [],
   "source": [
    "def train(model, graph_train, graph_test, epoches):\n",
    "    learning_rate = 0.01\n",
    "    decay = 5e-4\n",
    "    optimizer = torch.optim.Adam(model.parameters(),\n",
    "                                     lr=learning_rate,\n",
    "                                     weight_decay=decay)\n",
    "    criterion = torch.nn.CrossEntropyLoss()\n",
    "    \n",
    "    list_loss_train = []\n",
    "    list_loss_test = []\n",
    "    list_train_acc = []\n",
    "    list_test_acc = []\n",
    "    for epoch in range(epoches):\n",
    "        model.train()\n",
    "        optimizer.zero_grad()\n",
    "        # Forward\n",
    "        logits_train = model(graph_train.features, graph_train.edge_index)\n",
    "        # Compute loss\n",
    "        loss_train = criterion(logits_train, graph_train.labels) \n",
    "        list_loss_train.append(loss_train.item())\n",
    "        # Backward\n",
    "        loss_train.backward()\n",
    "        optimizer.step()\n",
    "        \n",
    "        train_acc = (torch.argmax(logits_train, dim=1) == torch.argmax(graph_train.labels, dim=1)).float().mean()\n",
    "        list_train_acc.append(train_acc)\n",
    "        \n",
    "        \n",
    "        if epoch % 1 == 0:\n",
    "            with torch.no_grad():\n",
    "                model.eval()\n",
    "                logits_test = model(graph_test.features, graph_test.edge_index)\n",
    "                loss_test = criterion(logits_test, graph_test.labels)\n",
    "                list_loss_test.append(loss_test.item())\n",
    "                test_acc = (torch.argmax(logits_test, dim=1) == torch.argmax(graph_test.labels, dim=1)).float().mean()\n",
    "                list_test_acc.append(test_acc)\n",
    "                print('Epoch %d | Loss Train : %.4f | Train Accuracy : %.4f | Loss Test: %.4f | Test Accuracy: %.4f' % (epoch, loss_train.item(), train_acc, loss_test.item(), test_acc))\n",
    "                \n",
    "    return list_loss_train, list_loss_test, list_train_acc, list_test_acc"
   ],
   "metadata": {
    "collapsed": false,
    "ExecuteTime": {
     "end_time": "2024-03-12T16:02:03.622543Z",
     "start_time": "2024-03-12T16:02:03.607760Z"
    }
   },
   "id": "d3ce5e0a9f7a879f",
   "execution_count": 205
  },
  {
   "cell_type": "code",
   "outputs": [
    {
     "name": "stdout",
     "output_type": "stream",
     "text": [
      "Epoch 0 | Loss Train : 1.9445 | Train Accuracy : 0.1553 | Loss Test: 1.9400 | Test Accuracy: 0.2021\n",
      "Epoch 1 | Loss Train : 1.9348 | Train Accuracy : 0.2152 | Loss Test: 1.9307 | Test Accuracy: 0.1917\n",
      "Epoch 2 | Loss Train : 1.9159 | Train Accuracy : 0.2295 | Loss Test: 1.9185 | Test Accuracy: 0.1890\n",
      "Epoch 3 | Loss Train : 1.8946 | Train Accuracy : 0.2370 | Loss Test: 1.9037 | Test Accuracy: 0.1890\n",
      "Epoch 4 | Loss Train : 1.8819 | Train Accuracy : 0.2542 | Loss Test: 1.8877 | Test Accuracy: 0.1994\n",
      "Epoch 5 | Loss Train : 1.8615 | Train Accuracy : 0.2737 | Loss Test: 1.8685 | Test Accuracy: 0.3128\n",
      "Epoch 6 | Loss Train : 1.8383 | Train Accuracy : 0.3025 | Loss Test: 1.8536 | Test Accuracy: 0.3195\n",
      "Epoch 7 | Loss Train : 1.8253 | Train Accuracy : 0.3149 | Loss Test: 1.8418 | Test Accuracy: 0.3227\n",
      "Epoch 8 | Loss Train : 1.8024 | Train Accuracy : 0.3392 | Loss Test: 1.8350 | Test Accuracy: 0.3245\n",
      "Epoch 9 | Loss Train : 1.7927 | Train Accuracy : 0.3525 | Loss Test: 1.8258 | Test Accuracy: 0.3609\n",
      "Epoch 10 | Loss Train : 1.7853 | Train Accuracy : 0.3668 | Loss Test: 1.8129 | Test Accuracy: 0.3650\n",
      "Epoch 11 | Loss Train : 1.7694 | Train Accuracy : 0.3726 | Loss Test: 1.7993 | Test Accuracy: 0.3690\n",
      "Epoch 12 | Loss Train : 1.7554 | Train Accuracy : 0.3804 | Loss Test: 1.7882 | Test Accuracy: 0.3699\n",
      "Epoch 13 | Loss Train : 1.7466 | Train Accuracy : 0.3979 | Loss Test: 1.7784 | Test Accuracy: 0.3830\n",
      "Epoch 14 | Loss Train : 1.7291 | Train Accuracy : 0.4068 | Loss Test: 1.7705 | Test Accuracy: 0.3906\n",
      "Epoch 15 | Loss Train : 1.7133 | Train Accuracy : 0.4353 | Loss Test: 1.7585 | Test Accuracy: 0.3906\n",
      "Epoch 16 | Loss Train : 1.7043 | Train Accuracy : 0.4523 | Loss Test: 1.7433 | Test Accuracy: 0.3978\n",
      "Epoch 17 | Loss Train : 1.6856 | Train Accuracy : 0.4585 | Loss Test: 1.7341 | Test Accuracy: 0.3996\n",
      "Epoch 18 | Loss Train : 1.6675 | Train Accuracy : 0.4841 | Loss Test: 1.7304 | Test Accuracy: 0.4244\n",
      "Epoch 19 | Loss Train : 1.6587 | Train Accuracy : 0.4997 | Loss Test: 1.7219 | Test Accuracy: 0.4343\n",
      "Epoch 20 | Loss Train : 1.6426 | Train Accuracy : 0.5197 | Loss Test: 1.7075 | Test Accuracy: 0.4244\n",
      "Epoch 21 | Loss Train : 1.6294 | Train Accuracy : 0.5221 | Loss Test: 1.6988 | Test Accuracy: 0.4302\n",
      "Epoch 22 | Loss Train : 1.6119 | Train Accuracy : 0.5675 | Loss Test: 1.6934 | Test Accuracy: 0.4518\n",
      "Epoch 23 | Loss Train : 1.5948 | Train Accuracy : 0.5869 | Loss Test: 1.6848 | Test Accuracy: 0.4748\n",
      "Epoch 24 | Loss Train : 1.5790 | Train Accuracy : 0.6154 | Loss Test: 1.6756 | Test Accuracy: 0.4802\n",
      "Epoch 25 | Loss Train : 1.5661 | Train Accuracy : 0.6223 | Loss Test: 1.6683 | Test Accuracy: 0.4977\n",
      "Epoch 26 | Loss Train : 1.5499 | Train Accuracy : 0.6514 | Loss Test: 1.6625 | Test Accuracy: 0.5126\n",
      "Epoch 27 | Loss Train : 1.5364 | Train Accuracy : 0.6619 | Loss Test: 1.6589 | Test Accuracy: 0.5257\n",
      "Epoch 28 | Loss Train : 1.5240 | Train Accuracy : 0.6788 | Loss Test: 1.6426 | Test Accuracy: 0.5648\n",
      "Epoch 29 | Loss Train : 1.5028 | Train Accuracy : 0.6935 | Loss Test: 1.6359 | Test Accuracy: 0.5792\n",
      "Epoch 30 | Loss Train : 1.4984 | Train Accuracy : 0.6998 | Loss Test: 1.6354 | Test Accuracy: 0.5725\n",
      "Epoch 31 | Loss Train : 1.4894 | Train Accuracy : 0.7062 | Loss Test: 1.6248 | Test Accuracy: 0.5918\n",
      "Epoch 32 | Loss Train : 1.4765 | Train Accuracy : 0.7207 | Loss Test: 1.6118 | Test Accuracy: 0.6071\n",
      "Epoch 33 | Loss Train : 1.4630 | Train Accuracy : 0.7260 | Loss Test: 1.6034 | Test Accuracy: 0.6076\n",
      "Epoch 34 | Loss Train : 1.4627 | Train Accuracy : 0.7234 | Loss Test: 1.5911 | Test Accuracy: 0.6224\n",
      "Epoch 35 | Loss Train : 1.4381 | Train Accuracy : 0.7476 | Loss Test: 1.5830 | Test Accuracy: 0.6386\n",
      "Epoch 36 | Loss Train : 1.4305 | Train Accuracy : 0.7518 | Loss Test: 1.5776 | Test Accuracy: 0.6422\n",
      "Epoch 37 | Loss Train : 1.4343 | Train Accuracy : 0.7432 | Loss Test: 1.5791 | Test Accuracy: 0.6404\n",
      "Epoch 38 | Loss Train : 1.4208 | Train Accuracy : 0.7590 | Loss Test: 1.5801 | Test Accuracy: 0.6368\n",
      "Epoch 39 | Loss Train : 1.4139 | Train Accuracy : 0.7699 | Loss Test: 1.5656 | Test Accuracy: 0.6643\n",
      "Epoch 40 | Loss Train : 1.3965 | Train Accuracy : 0.7939 | Loss Test: 1.5580 | Test Accuracy: 0.6692\n",
      "Epoch 41 | Loss Train : 1.3898 | Train Accuracy : 0.8090 | Loss Test: 1.5525 | Test Accuracy: 0.6908\n",
      "Epoch 42 | Loss Train : 1.3982 | Train Accuracy : 0.7948 | Loss Test: 1.5479 | Test Accuracy: 0.7115\n",
      "Epoch 43 | Loss Train : 1.3949 | Train Accuracy : 0.8148 | Loss Test: 1.5437 | Test Accuracy: 0.6985\n",
      "Epoch 44 | Loss Train : 1.3917 | Train Accuracy : 0.8139 | Loss Test: 1.5302 | Test Accuracy: 0.7228\n",
      "Epoch 45 | Loss Train : 1.3841 | Train Accuracy : 0.8200 | Loss Test: 1.5265 | Test Accuracy: 0.7232\n",
      "Epoch 46 | Loss Train : 1.3721 | Train Accuracy : 0.8302 | Loss Test: 1.5317 | Test Accuracy: 0.7133\n",
      "Epoch 47 | Loss Train : 1.3669 | Train Accuracy : 0.8369 | Loss Test: 1.5295 | Test Accuracy: 0.7075\n",
      "Epoch 48 | Loss Train : 1.3498 | Train Accuracy : 0.8516 | Loss Test: 1.5230 | Test Accuracy: 0.7156\n",
      "Epoch 49 | Loss Train : 1.3481 | Train Accuracy : 0.8575 | Loss Test: 1.5144 | Test Accuracy: 0.7264\n",
      "Epoch 50 | Loss Train : 1.3488 | Train Accuracy : 0.8502 | Loss Test: 1.5082 | Test Accuracy: 0.7318\n",
      "Epoch 51 | Loss Train : 1.3333 | Train Accuracy : 0.8702 | Loss Test: 1.5091 | Test Accuracy: 0.7259\n",
      "Epoch 52 | Loss Train : 1.3382 | Train Accuracy : 0.8653 | Loss Test: 1.5037 | Test Accuracy: 0.7232\n",
      "Epoch 53 | Loss Train : 1.3210 | Train Accuracy : 0.8814 | Loss Test: 1.4970 | Test Accuracy: 0.7250\n",
      "Epoch 54 | Loss Train : 1.3179 | Train Accuracy : 0.8814 | Loss Test: 1.4958 | Test Accuracy: 0.7282\n",
      "Epoch 55 | Loss Train : 1.3215 | Train Accuracy : 0.8720 | Loss Test: 1.5073 | Test Accuracy: 0.7120\n",
      "Epoch 56 | Loss Train : 1.3136 | Train Accuracy : 0.8800 | Loss Test: 1.4994 | Test Accuracy: 0.7120\n",
      "Epoch 57 | Loss Train : 1.3110 | Train Accuracy : 0.8845 | Loss Test: 1.4879 | Test Accuracy: 0.7241\n",
      "Epoch 58 | Loss Train : 1.3046 | Train Accuracy : 0.8887 | Loss Test: 1.4839 | Test Accuracy: 0.7264\n",
      "Epoch 59 | Loss Train : 1.3074 | Train Accuracy : 0.8852 | Loss Test: 1.4913 | Test Accuracy: 0.7124\n",
      "Epoch 60 | Loss Train : 1.2907 | Train Accuracy : 0.8992 | Loss Test: 1.4926 | Test Accuracy: 0.7048\n",
      "Epoch 61 | Loss Train : 1.3032 | Train Accuracy : 0.8871 | Loss Test: 1.4826 | Test Accuracy: 0.7201\n",
      "Epoch 62 | Loss Train : 1.2885 | Train Accuracy : 0.9009 | Loss Test: 1.4792 | Test Accuracy: 0.7309\n",
      "Epoch 63 | Loss Train : 1.2973 | Train Accuracy : 0.8891 | Loss Test: 1.4893 | Test Accuracy: 0.7169\n",
      "Epoch 64 | Loss Train : 1.2936 | Train Accuracy : 0.8934 | Loss Test: 1.4887 | Test Accuracy: 0.7196\n",
      "Epoch 65 | Loss Train : 1.2932 | Train Accuracy : 0.8927 | Loss Test: 1.4744 | Test Accuracy: 0.7327\n",
      "Epoch 66 | Loss Train : 1.2913 | Train Accuracy : 0.8998 | Loss Test: 1.4720 | Test Accuracy: 0.7309\n",
      "Epoch 67 | Loss Train : 1.2943 | Train Accuracy : 0.8918 | Loss Test: 1.4769 | Test Accuracy: 0.7273\n",
      "Epoch 68 | Loss Train : 1.2795 | Train Accuracy : 0.9116 | Loss Test: 1.4957 | Test Accuracy: 0.7061\n",
      "Epoch 69 | Loss Train : 1.2907 | Train Accuracy : 0.8994 | Loss Test: 1.4852 | Test Accuracy: 0.7142\n",
      "Epoch 70 | Loss Train : 1.2807 | Train Accuracy : 0.9098 | Loss Test: 1.4715 | Test Accuracy: 0.7358\n",
      "Epoch 71 | Loss Train : 1.2808 | Train Accuracy : 0.9029 | Loss Test: 1.4759 | Test Accuracy: 0.7318\n",
      "Epoch 72 | Loss Train : 1.2871 | Train Accuracy : 0.8969 | Loss Test: 1.4726 | Test Accuracy: 0.7322\n",
      "Epoch 73 | Loss Train : 1.2845 | Train Accuracy : 0.9007 | Loss Test: 1.4747 | Test Accuracy: 0.7259\n",
      "Epoch 74 | Loss Train : 1.2861 | Train Accuracy : 0.9025 | Loss Test: 1.4730 | Test Accuracy: 0.7309\n",
      "Epoch 75 | Loss Train : 1.2790 | Train Accuracy : 0.9079 | Loss Test: 1.4803 | Test Accuracy: 0.7214\n",
      "Epoch 76 | Loss Train : 1.2792 | Train Accuracy : 0.9090 | Loss Test: 1.4836 | Test Accuracy: 0.7183\n",
      "Epoch 77 | Loss Train : 1.2811 | Train Accuracy : 0.9032 | Loss Test: 1.4838 | Test Accuracy: 0.7156\n",
      "Epoch 78 | Loss Train : 1.2774 | Train Accuracy : 0.9076 | Loss Test: 1.4834 | Test Accuracy: 0.7106\n",
      "Epoch 79 | Loss Train : 1.2765 | Train Accuracy : 0.9081 | Loss Test: 1.4915 | Test Accuracy: 0.7057\n",
      "Epoch 80 | Loss Train : 1.2750 | Train Accuracy : 0.9101 | Loss Test: 1.4980 | Test Accuracy: 0.6958\n",
      "Epoch 81 | Loss Train : 1.2752 | Train Accuracy : 0.9123 | Loss Test: 1.4872 | Test Accuracy: 0.7102\n",
      "Epoch 82 | Loss Train : 1.2663 | Train Accuracy : 0.9203 | Loss Test: 1.4784 | Test Accuracy: 0.7196\n",
      "Epoch 83 | Loss Train : 1.2674 | Train Accuracy : 0.9172 | Loss Test: 1.4841 | Test Accuracy: 0.7183\n",
      "Epoch 84 | Loss Train : 1.2733 | Train Accuracy : 0.9108 | Loss Test: 1.5021 | Test Accuracy: 0.6967\n",
      "Epoch 85 | Loss Train : 1.2647 | Train Accuracy : 0.9190 | Loss Test: 1.4964 | Test Accuracy: 0.6962\n",
      "Epoch 86 | Loss Train : 1.2756 | Train Accuracy : 0.9105 | Loss Test: 1.4816 | Test Accuracy: 0.7151\n",
      "Epoch 87 | Loss Train : 1.2738 | Train Accuracy : 0.9098 | Loss Test: 1.4782 | Test Accuracy: 0.7277\n",
      "Epoch 88 | Loss Train : 1.2766 | Train Accuracy : 0.9110 | Loss Test: 1.4964 | Test Accuracy: 0.7048\n",
      "Epoch 89 | Loss Train : 1.2749 | Train Accuracy : 0.9092 | Loss Test: 1.4867 | Test Accuracy: 0.7147\n",
      "Epoch 90 | Loss Train : 1.2721 | Train Accuracy : 0.9137 | Loss Test: 1.4744 | Test Accuracy: 0.7291\n",
      "Epoch 91 | Loss Train : 1.2692 | Train Accuracy : 0.9174 | Loss Test: 1.4784 | Test Accuracy: 0.7250\n",
      "Epoch 92 | Loss Train : 1.2712 | Train Accuracy : 0.9139 | Loss Test: 1.4933 | Test Accuracy: 0.7138\n",
      "Epoch 93 | Loss Train : 1.2711 | Train Accuracy : 0.9161 | Loss Test: 1.5106 | Test Accuracy: 0.6899\n",
      "Epoch 94 | Loss Train : 1.2775 | Train Accuracy : 0.9074 | Loss Test: 1.4940 | Test Accuracy: 0.6998\n",
      "Epoch 95 | Loss Train : 1.2691 | Train Accuracy : 0.9147 | Loss Test: 1.4828 | Test Accuracy: 0.7124\n",
      "Epoch 96 | Loss Train : 1.2766 | Train Accuracy : 0.9114 | Loss Test: 1.4899 | Test Accuracy: 0.7066\n",
      "Epoch 97 | Loss Train : 1.2706 | Train Accuracy : 0.9172 | Loss Test: 1.4990 | Test Accuracy: 0.6998\n",
      "Epoch 98 | Loss Train : 1.2699 | Train Accuracy : 0.9170 | Loss Test: 1.4877 | Test Accuracy: 0.7183\n",
      "Epoch 99 | Loss Train : 1.2622 | Train Accuracy : 0.9243 | Loss Test: 1.4920 | Test Accuracy: 0.7030\n"
     ]
    }
   ],
   "source": [
    "model = GCN(hidden_channels=32)\n",
    "device = torch.device(\"cuda\" if torch.cuda.is_available() else \"cpu\")\n",
    "model = model.to(device)\n",
    "graph_train_torch = graph_train_torch.to(device)\n",
    "graph_test_torch = graph_test_torch.to(device)\n",
    "list_loss_train, list_loss_test, list_train_acc, list_test_acc = train(\n",
    "    model,\n",
    "    graph_train_torch,\n",
    "    graph_test_torch,\n",
    "    100\n",
    ")"
   ],
   "metadata": {
    "collapsed": false,
    "ExecuteTime": {
     "end_time": "2024-03-12T16:02:09.130494Z",
     "start_time": "2024-03-12T16:02:03.626317Z"
    }
   },
   "id": "158b01b58a54cfd9",
   "execution_count": 206
  },
  {
   "cell_type": "code",
   "outputs": [
    {
     "data": {
      "text/plain": "[<matplotlib.lines.Line2D at 0x76787a323d30>]"
     },
     "execution_count": 207,
     "metadata": {},
     "output_type": "execute_result"
    },
    {
     "data": {
      "text/plain": "<Figure size 640x480 with 1 Axes>",
      "image/png": "[encoded data removed]"
     },
     "metadata": {},
     "output_type": "display_data"
    }
   ],
   "source": [
    "import matplotlib.pyplot as plt\n",
    "\n",
    "plt.plot(list_loss_train, color='blue')\n",
    "plt.plot(list_loss_test, color='red')"
   ],
   "metadata": {
    "collapsed": false,
    "ExecuteTime": {
     "end_time": "2024-03-12T16:02:09.431882Z",
     "start_time": "2024-03-12T16:02:09.134157Z"
    }
   },
   "id": "91a1e53fb791ae69",
   "execution_count": 207
  },
  {
   "cell_type": "code",
   "outputs": [
    {
     "data": {
      "text/plain": "[<matplotlib.lines.Line2D at 0x76787a3b45b0>]"
     },
     "execution_count": 208,
     "metadata": {},
     "output_type": "execute_result"
    },
    {
     "data": {
      "text/plain": "<Figure size 640x480 with 1 Axes>",
      "image/png": "[encoded data removed]"
     },
     "metadata": {},
     "output_type": "display_data"
    }
   ],
   "source": [
    "plt.plot(list_train_acc, color='blue')\n",
    "plt.plot(list_test_acc, color='red')"
   ],
   "metadata": {
    "collapsed": false,
    "ExecuteTime": {
     "end_time": "2024-03-12T16:02:09.675693Z",
     "start_time": "2024-03-12T16:02:09.433749Z"
    }
   },
   "id": "3a81ed90db05efd8",
   "execution_count": 208
  },
  {
   "cell_type": "code",
   "outputs": [
    {
     "data": {
      "text/plain": "torch.Size([7])"
     },
     "execution_count": 209,
     "metadata": {},
     "output_type": "execute_result"
    }
   ],
   "source": [
    "graph_train_torch.labels[0].shape"
   ],
   "metadata": {
    "collapsed": false,
    "ExecuteTime": {
     "end_time": "2024-03-12T16:02:09.685593Z",
     "start_time": "2024-03-12T16:02:09.679405Z"
    }
   },
   "id": "cecf23511018d755",
   "execution_count": 209
  },
  {
   "cell_type": "code",
   "outputs": [
    {
     "data": {
      "text/plain": "[tensor(686.),\n tensor(646.),\n tensor(686.),\n tensor(1158.),\n tensor(599.),\n tensor(840.),\n tensor(892.)]"
     },
     "execution_count": 210,
     "metadata": {},
     "output_type": "execute_result"
    }
   ],
   "source": [
    "[ sum(graph_train_torch.labels[:,i]) for i in range(7) ]"
   ],
   "metadata": {
    "collapsed": false,
    "ExecuteTime": {
     "end_time": "2024-03-12T16:02:09.940420Z",
     "start_time": "2024-03-12T16:02:09.688018Z"
    }
   },
   "id": "ca3de81e5e3df4da",
   "execution_count": 210
  },
  {
   "cell_type": "code",
   "outputs": [
    {
     "data": {
      "text/plain": "[tensor(322.),\n tensor(275.),\n tensor(276.),\n tensor(420.),\n tensor(284.),\n tensor(319.),\n tensor(326.)]"
     },
     "execution_count": 211,
     "metadata": {},
     "output_type": "execute_result"
    }
   ],
   "source": [
    "[ sum(graph_test_torch.labels[:,i]) for i in range(7) ]"
   ],
   "metadata": {
    "collapsed": false,
    "ExecuteTime": {
     "end_time": "2024-03-12T16:02:10.051577Z",
     "start_time": "2024-03-12T16:02:09.942664Z"
    }
   },
   "id": "f45b4ca7597fa259",
   "execution_count": 211
  },
  {
   "cell_type": "code",
   "outputs": [],
   "source": [],
   "metadata": {
    "collapsed": false,
    "ExecuteTime": {
     "end_time": "2024-03-12T16:02:10.056985Z",
     "start_time": "2024-03-12T16:02:10.053586Z"
    }
   },
   "id": "14cf749508231ab5",
   "execution_count": 211
  }
 ],
 "metadata": {
  "kernelspec": {
   "display_name": "Python 3",
   "language": "python",
   "name": "python3"
  },
  "language_info": {
   "codemirror_mode": {
    "name": "ipython",
    "version": 2
   },
   "file_extension": ".py",
   "mimetype": "text/x-python",
   "name": "python",
   "nbconvert_exporter": "python",
   "pygments_lexer": "ipython2",
   "version": "2.7.6"
  }
 },
 "nbformat": 4,
 "nbformat_minor": 5
}
