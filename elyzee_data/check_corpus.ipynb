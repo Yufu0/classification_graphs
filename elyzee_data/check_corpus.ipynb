{
 "cells": [
  {
   "cell_type": "markdown",
   "metadata": {},
   "source": [
    "<center>\n",
    "<h1>2021 Deep learning projects</h1>\n",
    "</center>\n",
    "\n",
    "\n",
    "<br/>\n",
    "<div id=\"top\"></div>\n",
    "<center>\n",
    "    <a style=\"font-size: 20pt; font-weight: bold\">Graph neural network on twitter</a>\n",
    "</center>\n",
    "<br/>\n",
    "\n",
    "This corpus contains network extracted from tweets of the 2017 presidential campaign. Each node is a twitter account, and a link is drawn between two accounts if there is a retweet or a citation between them."
   ]
  },
  {
   "cell_type": "code",
   "execution_count": 1,
   "metadata": {
    "ExecuteTime": {
     "end_time": "2024-03-07T17:51:53.910479Z",
     "start_time": "2024-03-07T17:51:53.789751Z"
    }
   },
   "outputs": [],
   "source": [
    "import json, networkx as nx"
   ]
  },
  {
   "cell_type": "code",
   "execution_count": 2,
   "metadata": {
    "ExecuteTime": {
     "end_time": "2024-03-07T17:51:54.492262Z",
     "start_time": "2024-03-07T17:51:53.911757Z"
    }
   },
   "outputs": [],
   "source": [
    "json_file = 'elyzee_train.json'\n",
    "graph = nx.node_link_graph(json.load(open(json_file)))"
   ]
  },
  {
   "cell_type": "code",
   "execution_count": 3,
   "metadata": {
    "ExecuteTime": {
     "end_time": "2024-03-07T17:51:54.496579Z",
     "start_time": "2024-03-07T17:51:54.493107Z"
    }
   },
   "outputs": [
    {
     "name": "stdout",
     "output_type": "stream",
     "text": [
      "For the training data, we have 5507 user in our graph\n",
      "and 9656 edges\n"
     ]
    }
   ],
   "source": [
    "print('For the training data, we have',len(graph.nodes),'user in our graph')\n",
    "print('and', len(graph.edges), 'edges')"
   ]
  },
  {
   "cell_type": "code",
   "execution_count": 4,
   "metadata": {
    "ExecuteTime": {
     "end_time": "2024-03-07T17:51:54.720405Z",
     "start_time": "2024-03-07T17:51:54.498727Z"
    }
   },
   "outputs": [
    {
     "name": "stdout",
     "output_type": "stream",
     "text": [
      "For the test data, we have 2222 user in our graph\n",
      "and 3209 edges\n"
     ]
    }
   ],
   "source": [
    "json_file = 'elyzee_test.json'\n",
    "graph = nx.node_link_graph(json.load(open(json_file)))\n",
    "print('For the test data, we have',len(graph.nodes),'user in our graph')\n",
    "print('and', len(graph.edges), 'edges')"
   ]
  },
  {
   "cell_type": "code",
   "execution_count": 5,
   "metadata": {
    "ExecuteTime": {
     "end_time": "2024-03-07T17:51:54.724413Z",
     "start_time": "2024-03-07T17:51:54.721454Z"
    }
   },
   "outputs": [
    {
     "name": "stdout",
     "output_type": "stream",
     "text": [
      "the node id correspond to the twitter account:  492648852\n"
     ]
    }
   ],
   "source": [
    "node_id = list(graph.nodes)[0]\n",
    "print('the node id correspond to the twitter account: ', node_id)"
   ]
  },
  {
   "cell_type": "code",
   "execution_count": 6,
   "metadata": {
    "ExecuteTime": {
     "end_time": "2024-03-07T17:51:54.730388Z",
     "start_time": "2024-03-07T17:51:54.725316Z"
    }
   },
   "outputs": [
    {
     "name": "stdout",
     "output_type": "stream",
     "text": [
      "each nodes contains two attribute, the features corresponding to the words the corresponding user employs and serves as a descriptor\n",
      "the second attribute indicate its affiliation\n"
     ]
    },
    {
     "data": {
      "text/plain": "dict_keys(['features', 'affiliation'])"
     },
     "execution_count": 6,
     "metadata": {},
     "output_type": "execute_result"
    }
   ],
   "source": [
    "print('each nodes contains two attribute, the features corresponding to the words the corresponding user employs and serves as a descriptor')\n",
    "print('the second attribute indicate its affiliation')\n",
    "graph.nodes[node_id].keys()"
   ]
  },
  {
   "cell_type": "code",
   "execution_count": 7,
   "metadata": {
    "ExecuteTime": {
     "end_time": "2024-03-07T17:51:54.734172Z",
     "start_time": "2024-03-07T17:51:54.731405Z"
    }
   },
   "outputs": [
    {
     "name": "stdout",
     "output_type": "stream",
     "text": [
      "the node  492648852 has the following affiliation: fi\n"
     ]
    }
   ],
   "source": [
    "print('the node ',node_id, 'has the following affiliation:', graph.nodes[node_id]['affiliation'])"
   ]
  },
  {
   "cell_type": "code",
   "execution_count": 7,
   "metadata": {
    "ExecuteTime": {
     "end_time": "2024-03-07T17:51:54.736751Z",
     "start_time": "2024-03-07T17:51:54.735152Z"
    }
   },
   "outputs": [],
   "source": []
  }
 ],
 "metadata": {
  "kernelspec": {
   "display_name": "Python 3",
   "language": "python",
   "name": "python3"
  },
  "language_info": {
   "codemirror_mode": {
    "name": "ipython",
    "version": 3
   },
   "file_extension": ".py",
   "mimetype": "text/x-python",
   "name": "python",
   "nbconvert_exporter": "python",
   "pygments_lexer": "ipython3",
   "version": "3.7.6"
  }
 },
 "nbformat": 4,
 "nbformat_minor": 4
}
