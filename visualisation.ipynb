{
 "cells": [
  {
   "cell_type": "code",
   "outputs": [],
   "source": [
    "import networkx as nx\n",
    "import json\n",
    "from torch_geometric.utils import from_networkx\n",
    "import torch"
   ],
   "metadata": {
    "collapsed": false,
    "ExecuteTime": {
     "end_time": "2024-03-15T12:28:53.285558Z",
     "start_time": "2024-03-15T12:28:46.520127Z"
    }
   },
   "id": "1f9d7966f3970e6d",
   "execution_count": 1
  },
  {
   "cell_type": "code",
   "outputs": [],
   "source": [
    "json_file = 'elyzee_data/elyzee_train.json'\n",
    "graph_train_networkx = nx.node_link_graph(json.load(open(json_file)))\n",
    "\n",
    "json_file = 'elyzee_data/elyzee_test.json'\n",
    "graph_test_networkx = nx.node_link_graph(json.load(open(json_file)))"
   ],
   "metadata": {
    "collapsed": false,
    "ExecuteTime": {
     "end_time": "2024-03-15T12:28:54.707178Z",
     "start_time": "2024-03-15T12:28:53.288494Z"
    }
   },
   "id": "7b43252906034c4",
   "execution_count": 2
  },
  {
   "cell_type": "code",
   "outputs": [],
   "source": [
    "num_classes = 7\n",
    "labels_dict = {\n",
    "    'lr': 0, \n",
    "    'em': 1, \n",
    "    'fn': 2, \n",
    "    'fi': 3, \n",
    "    'ps': 4,\n",
    "    'multi_affiliations': 5, \n",
    "    'indetermined': 6\n",
    "}\n",
    "node_id = list(graph_train_networkx.nodes)[0]\n",
    "num_features = len(graph_train_networkx.nodes[node_id]['features'])"
   ],
   "metadata": {
    "collapsed": false,
    "ExecuteTime": {
     "end_time": "2024-03-15T12:28:54.712244Z",
     "start_time": "2024-03-15T12:28:54.708449Z"
    }
   },
   "id": "4af6a25c02038449",
   "execution_count": 3
  },
  {
   "cell_type": "code",
   "outputs": [
    {
     "name": "stdout",
     "output_type": "stream",
     "text": [
      "Train : Data(edge_index=[2, 19284], features=[5507, 999], affiliation=[5507], num_nodes=5507, labels=[5507])\n",
      "Test : Data(edge_index=[2, 6402], features=[2222, 999], affiliation=[2222], num_nodes=2222, labels=[2222])\n"
     ]
    }
   ],
   "source": [
    "graph_train_torch = from_networkx(graph_train_networkx)\n",
    "graph_test_torch = from_networkx(graph_test_networkx)\n",
    "graph_train_torch.labels = torch.tensor(\n",
    "    [labels_dict[affiliation] for affiliation in graph_train_torch.affiliation]\n",
    ")\n",
    "graph_test_torch.labels = torch.tensor(\n",
    "    [labels_dict[affiliation] for affiliation in graph_test_torch.affiliation]\n",
    ")\n",
    "print(\"Train :\",graph_train_torch)\n",
    "print(\"Test :\",graph_test_torch)"
   ],
   "metadata": {
    "collapsed": false,
    "ExecuteTime": {
     "end_time": "2024-03-15T12:29:00.717134Z",
     "start_time": "2024-03-15T12:28:57.464030Z"
    }
   },
   "id": "3ad80933fe3b8f32",
   "execution_count": 5
  },
  {
   "cell_type": "code",
   "outputs": [
    {
     "name": "stdout",
     "output_type": "stream",
     "text": [
      "{'bindings': {'edges': <networkx.classes.graph.Graph at 0x72e0593664a0>,\n",
      "  'nodes': None,\n",
      "  'source': 'source',\n",
      "  'destination': 'target',\n",
      "  'node': None,\n",
      "  'edge_label': None,\n",
      "  'edge_color': None,\n",
      "  'edge_size': None,\n",
      "  'edge_weight': None,\n",
      "  'edge_title': None,\n",
      "  'edge_icon': None,\n",
      "  'edge_opacity': None,\n",
      "  'edge_source_color': None,\n",
      "  'edge_destination_color': None,\n",
      "  'point_label': None,\n",
      "  'point_color': None,\n",
      "  'point_size': None,\n",
      "  'point_weight': None,\n",
      "  'point_title': None,\n",
      "  'point_icon': None,\n",
      "  'point_opacity': None,\n",
      "  'point_x': None,\n",
      "  'point_y': None},\n",
      " 'settings': {'height': 500, 'url_params': {'info': 'true'}}}\n"
     ]
    },
    {
     "name": "stderr",
     "output_type": "stream",
     "text": [
      "Failed memoization speedup attempt due to Pandas internal hash function failing. Continuing without memoization speedups.This is fine, but for speedups around skipping re-uploads of previously seen tables, try identifying which columns have types that Pandas cannot hash, and convert them to hashable types like strings."
     ]
    },
    {
     "data": {
      "text/plain": "<IPython.core.display.HTML object>",
      "text/html": "\n            <iframe id=\"092f5b81-5239-421c-bc7d-c325ec587142\" src=\"https://hub.graphistry.com/graph/graph.html?dataset=8f8a18da21bb446f9bc5471037bcdf3a&type=arrow&viztoken=c8f8315a-43a5-4305-9451-22cc0d87cee9&usertag=8affdeeb-pygraphistry-0.33.5&splashAfter=1710506061&info=true\"\n                    allowfullscreen=\"true\" webkitallowfullscreen=\"true\" mozallowfullscreen=\"true\"\n                    oallowfullscreen=\"true\" msallowfullscreen=\"true\"\n                    style=\"width:100%; height:500px; border: 1px solid #DDD; overflow: hidden\"\n                    \n            >\n            </iframe>\n        \n            <script>\n                try {\n                  $(\"#092f5b81-5239-421c-bc7d-c325ec587142\").bind('mousewheel', function(e) { e.preventDefault(); });\n                } catch (e) { console.error('exn catching scroll', e); }\n            </script>\n        "
     },
     "execution_count": 8,
     "metadata": {},
     "output_type": "execute_result"
    }
   ],
   "source": [
    "import graphistry\n",
    "# graphistry.register\n",
    "g = graphistry.edges(graph_test_networkx, source='source', destination='target')\n",
    "g = g.encode_point_color(\n",
    "    'affiliation',\n",
    "    categorical_mapping={\n",
    "    'lr': \"green\", \n",
    "    'em': \"cyan\", \n",
    "    'fn': \"blue\", \n",
    "    'fi': \"yellow\", \n",
    "    'ps': \"red\",\n",
    "    'multi_affiliations': \"white\", \n",
    "    'indetermined': \"black\"\n",
    "},)\n",
    "g.plot()"
   ],
   "metadata": {
    "collapsed": false,
    "ExecuteTime": {
     "end_time": "2024-03-15T12:34:06.108322Z",
     "start_time": "2024-03-15T12:33:50.255431Z"
    }
   },
   "id": "c129884f41b0b8a6",
   "execution_count": 8
  },
  {
   "cell_type": "code",
   "outputs": [],
   "source": [
    "    "
   ],
   "metadata": {
    "collapsed": false
   },
   "id": "5fb8b39f9c15e789",
   "execution_count": null
  },
  {
   "cell_type": "code",
   "outputs": [],
   "source": [],
   "metadata": {
    "collapsed": false
   },
   "id": "6d0a2bb2b57eb220"
  }
 ],
 "metadata": {
  "kernelspec": {
   "display_name": "Python 3",
   "language": "python",
   "name": "python3"
  },
  "language_info": {
   "codemirror_mode": {
    "name": "ipython",
    "version": 2
   },
   "file_extension": ".py",
   "mimetype": "text/x-python",
   "name": "python",
   "nbconvert_exporter": "python",
   "pygments_lexer": "ipython2",
   "version": "2.7.6"
  }
 },
 "nbformat": 4,
 "nbformat_minor": 5
}
