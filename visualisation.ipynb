{
 "cells": [
  {
   "cell_type": "code",
   "outputs": [],
   "source": [
    "import networkx as nx\n",
    "import json\n",
    "import graphistry\n",
    "graphistry.register\n"
   ],
   "metadata": {
    "collapsed": false,
    "ExecuteTime": {
     "end_time": "2024-03-16T14:48:53.515642Z",
     "start_time": "2024-03-16T14:48:52.333574Z"
    }
   },
   "id": "1f9d7966f3970e6d",
   "execution_count": 1
  },
  {
   "cell_type": "code",
   "outputs": [],
   "source": [
    "labels_dict = {\n",
    "    0: 'lr', \n",
    "    1: 'em', \n",
    "    2: 'fn', \n",
    "    3: 'fi', \n",
    "    4: 'ps',\n",
    "    5: 'multi_affiliations', \n",
    "    6: 'indetermined'\n",
    "}"
   ],
   "metadata": {
    "collapsed": false,
    "ExecuteTime": {
     "end_time": "2024-03-16T14:48:53.530636Z",
     "start_time": "2024-03-16T14:48:53.519642Z"
    }
   },
   "id": "7db0cdcad160daf7",
   "execution_count": 2
  },
  {
   "cell_type": "code",
   "outputs": [],
   "source": [
    "with open('predictions/elyzee.json', 'r') as f:\n",
    "    predictions = json.load(f)\n",
    "\n",
    "json_file = 'elyzee_data/elyzee_train.json'\n",
    "graph_train_networkx = nx.node_link_graph(json.load(open(json_file)))\n",
    "\n",
    "for node, pred  in zip(graph_train_networkx, predictions['train']):\n",
    "    graph_train_networkx.nodes[node]['y_true'] = labels_dict[pred['y_true']]\n",
    "    \n",
    "    graph_train_networkx.nodes[node]['y_pred_fcnn'] = labels_dict[pred['y_pred_fcnn']]\n",
    "    graph_train_networkx.nodes[node]['y_pred_gcn1'] = labels_dict[pred['y_pred_gcn1']]\n",
    "    graph_train_networkx.nodes[node]['y_pred_gcn2'] = labels_dict[pred['y_pred_gcn2']]\n",
    "    \n",
    "    graph_train_networkx.nodes[node]['y_pred_fcnn_correct'] = pred['y_true'] == pred['y_pred_fcnn']\n",
    "    graph_train_networkx.nodes[node]['y_pred_gcn1_correct'] = pred['y_true'] == pred['y_pred_gcn1']\n",
    "    graph_train_networkx.nodes[node]['y_pred_gcn2_correct'] = pred['y_true'] == pred['y_pred_gcn2']\n",
    "    \n",
    "\n",
    "\n",
    "\n",
    "json_file = 'elyzee_data/elyzee_test.json'\n",
    "graph_test_networkx = nx.node_link_graph(json.load(open(json_file)))\n",
    "\n",
    "for node, pred  in zip(graph_test_networkx, predictions['test']):\n",
    "    graph_test_networkx.nodes[node]['y_true'] = labels_dict[pred['y_true']]\n",
    "    \n",
    "    graph_test_networkx.nodes[node]['y_pred_fcnn'] = labels_dict[pred['y_pred_fcnn']]\n",
    "    graph_test_networkx.nodes[node]['y_pred_gcn1'] = labels_dict[pred['y_pred_gcn1']]\n",
    "    graph_test_networkx.nodes[node]['y_pred_gcn2'] = labels_dict[pred['y_pred_gcn2']]\n",
    "    \n",
    "    graph_test_networkx.nodes[node]['y_pred_fcnn_correct'] = pred['y_true'] == pred['y_pred_fcnn']\n",
    "    graph_test_networkx.nodes[node]['y_pred_gcn1_correct'] = pred['y_true'] == pred['y_pred_gcn1']\n",
    "    graph_test_networkx.nodes[node]['y_pred_gcn2_correct'] = pred['y_true'] == pred['y_pred_gcn2']\n",
    "    \n"
   ],
   "metadata": {
    "collapsed": false,
    "ExecuteTime": {
     "end_time": "2024-03-16T14:48:54.325636Z",
     "start_time": "2024-03-16T14:48:53.531637Z"
    }
   },
   "id": "7b43252906034c4",
   "execution_count": 3
  },
  {
   "cell_type": "code",
   "outputs": [],
   "source": [
    "num_classes = 7\n",
    "labels_dict = {\n",
    "    'lr': 0, \n",
    "    'em': 1, \n",
    "    'fn': 2, \n",
    "    'fi': 3, \n",
    "    'ps': 4,\n",
    "    'multi_affiliations': 5, \n",
    "    'indetermined': 6\n",
    "}\n",
    "node_id = list(graph_train_networkx.nodes)[0]\n",
    "num_features = len(graph_train_networkx.nodes[node_id]['features'])"
   ],
   "metadata": {
    "collapsed": false,
    "ExecuteTime": {
     "end_time": "2024-03-16T14:48:54.430636Z",
     "start_time": "2024-03-16T14:48:54.417638Z"
    }
   },
   "id": "4af6a25c02038449",
   "execution_count": 4
  },
  {
   "cell_type": "code",
   "outputs": [
    {
     "name": "stderr",
     "output_type": "stream",
     "text": [
      "Failed memoization speedup attempt due to Pandas internal hash function failing. Continuing without memoization speedups.This is fine, but for speedups around skipping re-uploads of previously seen tables, try identifying which columns have types that Pandas cannot hash, and convert them to hashable types like strings."
     ]
    },
    {
     "data": {
      "text/plain": "<IPython.core.display.HTML object>",
      "text/html": "\n            <iframe id=\"8250b435-6c6e-400e-ade0-f7fb435c81bd\" src=\"https://hub.graphistry.com/graph/graph.html?dataset=d8ef926e638b4a73a85ce38c8fb4c500&type=arrow&viztoken=aa73066a-648b-493f-812e-99af8286d933&usertag=2d924a5e-pygraphistry-0.33.5&splashAfter=1710598294&info=true\"\n                    allowfullscreen=\"true\" webkitallowfullscreen=\"true\" mozallowfullscreen=\"true\"\n                    oallowfullscreen=\"true\" msallowfullscreen=\"true\"\n                    style=\"width:100%; height:500px; border: 1px solid #DDD; overflow: hidden\"\n                    \n            >\n            </iframe>\n        \n            <script>\n                try {\n                  $(\"#8250b435-6c6e-400e-ade0-f7fb435c81bd\").bind('mousewheel', function(e) { e.preventDefault(); });\n                } catch (e) { console.error('exn catching scroll', e); }\n            </script>\n        "
     },
     "execution_count": 12,
     "metadata": {},
     "output_type": "execute_result"
    }
   ],
   "source": [
    "graph_train = graphistry.edges(graph_train_networkx, source='source', destination='target', api=3)\n",
    "graph_train = graph_train.encode_point_color(\n",
    "    'affiliation',\n",
    "    categorical_mapping={\n",
    "    'lr': \"green\", \n",
    "    'em': \"cyan\", \n",
    "    'fn': \"blue\", \n",
    "    'fi': \"yellow\", \n",
    "    'ps': \"red\",\n",
    "    'multi_affiliations': \"white\", \n",
    "    'indetermined': \"black\"\n",
    "},)\n",
    "graph_train.plot()"
   ],
   "metadata": {
    "collapsed": false,
    "ExecuteTime": {
     "end_time": "2024-03-16T14:11:19.629560Z",
     "start_time": "2024-03-16T14:10:52.704560Z"
    }
   },
   "id": "c129884f41b0b8a6",
   "execution_count": 12
  },
  {
   "cell_type": "code",
   "outputs": [
    {
     "name": "stderr",
     "output_type": "stream",
     "text": [
      "Failed memoization speedup attempt due to Pandas internal hash function failing. Continuing without memoization speedups.This is fine, but for speedups around skipping re-uploads of previously seen tables, try identifying which columns have types that Pandas cannot hash, and convert them to hashable types like strings."
     ]
    },
    {
     "data": {
      "text/plain": "<IPython.core.display.HTML object>",
      "text/html": "\n            <iframe id=\"caf9148f-5dcf-4244-9234-7b33364ff292\" src=\"https://hub.graphistry.com/graph/graph.html?dataset=74b70b8b77584644972ebdee73b24dca&type=arrow&viztoken=75fddf9f-5092-464d-aec3-37ea7636a7c2&usertag=2d924a5e-pygraphistry-0.33.5&splashAfter=1710601177&info=true\"\n                    allowfullscreen=\"true\" webkitallowfullscreen=\"true\" mozallowfullscreen=\"true\"\n                    oallowfullscreen=\"true\" msallowfullscreen=\"true\"\n                    style=\"width:100%; height:500px; border: 1px solid #DDD; overflow: hidden\"\n                    \n            >\n            </iframe>\n        \n            <script>\n                try {\n                  $(\"#caf9148f-5dcf-4244-9234-7b33364ff292\").bind('mousewheel', function(e) { e.preventDefault(); });\n                } catch (e) { console.error('exn catching scroll', e); }\n            </script>\n        "
     },
     "execution_count": 9,
     "metadata": {},
     "output_type": "execute_result"
    }
   ],
   "source": [
    "graph_train = graphistry.edges(graph_train_networkx, source='source', destination='target', api=3)\n",
    "graph_train = graph_train.encode_point_color(\n",
    "    'y_pred_gcn2_correct',\n",
    "    categorical_mapping={\n",
    "    True: \"green\", \n",
    "    False: \"red\"\n",
    "},)\n",
    "graph_train.plot()"
   ],
   "metadata": {
    "collapsed": false,
    "ExecuteTime": {
     "end_time": "2024-03-16T14:59:22.467246Z",
     "start_time": "2024-03-16T14:58:55.598754Z"
    }
   },
   "id": "9bb3f4a12545b247",
   "execution_count": 9
  },
  {
   "cell_type": "code",
   "outputs": [],
   "source": [
    "    "
   ],
   "metadata": {
    "collapsed": false,
    "ExecuteTime": {
     "start_time": "2024-03-16T14:09:40.404733Z"
    }
   },
   "id": "5fb8b39f9c15e789",
   "execution_count": null
  },
  {
   "cell_type": "code",
   "outputs": [],
   "source": [],
   "metadata": {
    "collapsed": false,
    "ExecuteTime": {
     "start_time": "2024-03-16T14:09:40.404733Z"
    }
   },
   "id": "6d0a2bb2b57eb220",
   "execution_count": null
  }
 ],
 "metadata": {
  "kernelspec": {
   "display_name": "Python 3",
   "language": "python",
   "name": "python3"
  },
  "language_info": {
   "codemirror_mode": {
    "name": "ipython",
    "version": 2
   },
   "file_extension": ".py",
   "mimetype": "text/x-python",
   "name": "python",
   "nbconvert_exporter": "python",
   "pygments_lexer": "ipython2",
   "version": "2.7.6"
  }
 },
 "nbformat": 4,
 "nbformat_minor": 5
}
