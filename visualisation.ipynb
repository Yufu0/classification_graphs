{
 "cells": [
  {
   "cell_type": "code",
   "outputs": [],
   "source": [
    "import networkx as nx\n",
    "import json\n",
    "from torch_geometric.utils import from_networkx\n",
    "import torch"
   ],
   "metadata": {
    "collapsed": false,
    "ExecuteTime": {
     "end_time": "2024-03-15T13:05:33.492236Z",
     "start_time": "2024-03-15T13:05:33.486417Z"
    }
   },
   "id": "1f9d7966f3970e6d",
   "execution_count": 9
  },
  {
   "cell_type": "code",
   "outputs": [],
   "source": [
    "json_file = 'elyzee_data/elyzee_train.json'\n",
    "graph_train_networkx = nx.node_link_graph(json.load(open(json_file)))\n",
    "\n",
    "json_file = 'elyzee_data/elyzee_test.json'\n",
    "graph_test_networkx = nx.node_link_graph(json.load(open(json_file)))"
   ],
   "metadata": {
    "collapsed": false,
    "ExecuteTime": {
     "end_time": "2024-03-15T13:05:34.567641Z",
     "start_time": "2024-03-15T13:05:33.493973Z"
    }
   },
   "id": "7b43252906034c4",
   "execution_count": 10
  },
  {
   "cell_type": "code",
   "outputs": [],
   "source": [
    "num_classes = 7\n",
    "labels_dict = {\n",
    "    'lr': 0, \n",
    "    'em': 1, \n",
    "    'fn': 2, \n",
    "    'fi': 3, \n",
    "    'ps': 4,\n",
    "    'multi_affiliations': 5, \n",
    "    'indetermined': 6\n",
    "}\n",
    "node_id = list(graph_train_networkx.nodes)[0]\n",
    "num_features = len(graph_train_networkx.nodes[node_id]['features'])"
   ],
   "metadata": {
    "collapsed": false,
    "ExecuteTime": {
     "end_time": "2024-03-15T13:05:34.577656Z",
     "start_time": "2024-03-15T13:05:34.568494Z"
    }
   },
   "id": "4af6a25c02038449",
   "execution_count": 11
  },
  {
   "cell_type": "code",
   "outputs": [
    {
     "name": "stdout",
     "output_type": "stream",
     "text": [
      "Train : Data(edge_index=[2, 19284], features=[5507, 999], affiliation=[5507], num_nodes=5507, labels=[5507])\n",
      "Test : Data(edge_index=[2, 6402], features=[2222, 999], affiliation=[2222], num_nodes=2222, labels=[2222])\n"
     ]
    }
   ],
   "source": [
    "graph_train_torch = from_networkx(graph_train_networkx)\n",
    "graph_test_torch = from_networkx(graph_test_networkx)\n",
    "graph_train_torch.labels = torch.tensor(\n",
    "    [labels_dict[affiliation] for affiliation in graph_train_torch.affiliation]\n",
    ")\n",
    "graph_test_torch.labels = torch.tensor(\n",
    "    [labels_dict[affiliation] for affiliation in graph_test_torch.affiliation]\n",
    ")\n",
    "print(\"Train :\",graph_train_torch)\n",
    "print(\"Test :\",graph_test_torch)"
   ],
   "metadata": {
    "collapsed": false,
    "ExecuteTime": {
     "end_time": "2024-03-15T13:05:37.448146Z",
     "start_time": "2024-03-15T13:05:34.579450Z"
    }
   },
   "id": "3ad80933fe3b8f32",
   "execution_count": 12
  },
  {
   "cell_type": "code",
   "outputs": [
    {
     "name": "stderr",
     "output_type": "stream",
     "text": [
      "Failed memoization speedup attempt due to Pandas internal hash function failing. Continuing without memoization speedups.This is fine, but for speedups around skipping re-uploads of previously seen tables, try identifying which columns have types that Pandas cannot hash, and convert them to hashable types like strings."
     ]
    },
    {
     "data": {
      "text/plain": "<IPython.core.display.HTML object>",
      "text/html": "\n            <iframe id=\"ca957e62-bebc-44e9-a925-6aba59e7c79f\" src=\"https://hub.graphistry.com/graph/graph.html?dataset=3dd14709a3c341818b03ed38bc498514&type=arrow&viztoken=58b652c3-e3bc-49a7-b6c1-d40a245e4c57&usertag=8affdeeb-pygraphistry-0.33.5&splashAfter=1710508045&info=true\"\n                    allowfullscreen=\"true\" webkitallowfullscreen=\"true\" mozallowfullscreen=\"true\"\n                    oallowfullscreen=\"true\" msallowfullscreen=\"true\"\n                    style=\"width:100%; height:500px; border: 1px solid #DDD; overflow: hidden\"\n                    \n            >\n            </iframe>\n        \n            <script>\n                try {\n                  $(\"#ca957e62-bebc-44e9-a925-6aba59e7c79f\").bind('mousewheel', function(e) { e.preventDefault(); });\n                } catch (e) { console.error('exn catching scroll', e); }\n            </script>\n        "
     },
     "execution_count": 14,
     "metadata": {},
     "output_type": "execute_result"
    }
   ],
   "source": [
    "import graphistry\n",
    "# graphistry.register\n",
    "g = graphistry.edges(graph_train_networkx, source='source', destination='target')\n",
    "g = g.encode_point_color(\n",
    "    'affiliation',\n",
    "    categorical_mapping={\n",
    "    'lr': \"green\", \n",
    "    'em': \"cyan\", \n",
    "    'fn': \"blue\", \n",
    "    'fi': \"yellow\", \n",
    "    'ps': \"red\",\n",
    "    'multi_affiliations': \"white\", \n",
    "    'indetermined': \"black\"\n",
    "},)\n",
    "g.plot()"
   ],
   "metadata": {
    "collapsed": false,
    "ExecuteTime": {
     "end_time": "2024-03-15T13:07:10.768666Z",
     "start_time": "2024-03-15T13:06:39.330135Z"
    }
   },
   "id": "c129884f41b0b8a6",
   "execution_count": 14
  },
  {
   "cell_type": "code",
   "outputs": [],
   "source": [
    "    "
   ],
   "metadata": {
    "collapsed": false,
    "ExecuteTime": {
     "end_time": "2024-03-15T13:05:58.161090Z",
     "start_time": "2024-03-15T13:05:58.157635Z"
    }
   },
   "id": "5fb8b39f9c15e789",
   "execution_count": 13
  },
  {
   "cell_type": "code",
   "outputs": [],
   "source": [],
   "metadata": {
    "collapsed": false,
    "ExecuteTime": {
     "end_time": "2024-03-15T13:05:58.167859Z",
     "start_time": "2024-03-15T13:05:58.163398Z"
    }
   },
   "id": "6d0a2bb2b57eb220",
   "execution_count": 13
  }
 ],
 "metadata": {
  "kernelspec": {
   "display_name": "Python 3",
   "language": "python",
   "name": "python3"
  },
  "language_info": {
   "codemirror_mode": {
    "name": "ipython",
    "version": 2
   },
   "file_extension": ".py",
   "mimetype": "text/x-python",
   "name": "python",
   "nbconvert_exporter": "python",
   "pygments_lexer": "ipython2",
   "version": "2.7.6"
  }
 },
 "nbformat": 4,
 "nbformat_minor": 5
}
