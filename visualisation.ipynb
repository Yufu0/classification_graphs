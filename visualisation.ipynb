{
 "cells": [
  {
   "cell_type": "code",
   "outputs": [],
   "source": [
    "import networkx as nx\n",
    "import json\n",
    "import graphistry\n",
    "graphistry.register(api=3, protocol=\"https\", server=\"hub.graphistry.com\", username=\"yufu\", password=\"oilec&graphisty\")\n"
   ],
   "metadata": {
    "collapsed": false,
    "ExecuteTime": {
     "end_time": "2024-03-22T08:12:43.007015Z",
     "start_time": "2024-03-22T08:12:42.223152Z"
    }
   },
   "id": "1f9d7966f3970e6d",
   "execution_count": 35
  },
  {
   "cell_type": "code",
   "outputs": [],
   "source": [
    "labels_dict = {\n",
    "    0: 'lr', \n",
    "    1: 'em', \n",
    "    2: 'fn', \n",
    "    3: 'fi', \n",
    "    4: 'ps',\n",
    "    5: 'multi_affiliations', \n",
    "    6: 'indetermined'\n",
    "}"
   ],
   "metadata": {
    "collapsed": false,
    "ExecuteTime": {
     "end_time": "2024-03-22T08:12:43.015374Z",
     "start_time": "2024-03-22T08:12:43.012714Z"
    }
   },
   "id": "7db0cdcad160daf7",
   "execution_count": 36
  },
  {
   "cell_type": "code",
   "outputs": [],
   "source": [
    "with open('predictions/elyzee.json', 'r') as f:\n",
    "    predictions = json.load(f)\n",
    "\n",
    "json_file = 'elyzee_data/elyzee_train.json'\n",
    "graph_train_networkx = nx.node_link_graph(json.load(open(json_file)))\n",
    "\n",
    "for node, pred  in zip(graph_train_networkx, predictions['train']):\n",
    "    graph_train_networkx.nodes[node]['y_true'] = labels_dict[pred['y_true']]\n",
    "    \n",
    "    graph_train_networkx.nodes[node]['y_pred_fcnn'] = labels_dict[pred['y_pred_fcnn']]\n",
    "    graph_train_networkx.nodes[node]['y_pred_gcn1'] = labels_dict[pred['y_pred_gcn1']]\n",
    "    graph_train_networkx.nodes[node]['y_pred_gcn2'] = labels_dict[pred['y_pred_gcn2']]\n",
    "    \n",
    "    graph_train_networkx.nodes[node]['y_pred_fcnn_correct'] = pred['y_true'] == pred['y_pred_fcnn']\n",
    "    graph_train_networkx.nodes[node]['y_pred_gcn1_correct'] = pred['y_true'] == pred['y_pred_gcn1']\n",
    "    graph_train_networkx.nodes[node]['y_pred_gcn2_correct'] = pred['y_true'] == pred['y_pred_gcn2']\n",
    "    \n",
    "\n",
    "\n",
    "\n",
    "json_file = 'elyzee_data/elyzee_test.json'\n",
    "graph_test_networkx = nx.node_link_graph(json.load(open(json_file)))\n",
    "\n",
    "for node, pred  in zip(graph_test_networkx, predictions['test']):\n",
    "    graph_test_networkx.nodes[node]['y_true'] = labels_dict[pred['y_true']]\n",
    "    \n",
    "    graph_test_networkx.nodes[node]['y_pred_fcnn'] = labels_dict[pred['y_pred_fcnn']]\n",
    "    graph_test_networkx.nodes[node]['y_pred_gcn1'] = labels_dict[pred['y_pred_gcn1']]\n",
    "    graph_test_networkx.nodes[node]['y_pred_gcn2'] = labels_dict[pred['y_pred_gcn2']]\n",
    "    \n",
    "    graph_test_networkx.nodes[node]['y_pred_fcnn_correct'] = pred['y_true'] == pred['y_pred_fcnn']\n",
    "    graph_test_networkx.nodes[node]['y_pred_gcn1_correct'] = pred['y_true'] == pred['y_pred_gcn1']\n",
    "    graph_test_networkx.nodes[node]['y_pred_gcn2_correct'] = pred['y_true'] == pred['y_pred_gcn2']\n",
    "    \n"
   ],
   "metadata": {
    "collapsed": false,
    "ExecuteTime": {
     "end_time": "2024-03-22T08:12:43.977562Z",
     "start_time": "2024-03-22T08:12:43.122421Z"
    }
   },
   "id": "7b43252906034c4",
   "execution_count": 37
  },
  {
   "cell_type": "code",
   "outputs": [],
   "source": [],
   "metadata": {
    "collapsed": false,
    "ExecuteTime": {
     "end_time": "2024-03-21T17:38:33.709067Z",
     "start_time": "2024-03-21T17:38:33.707300Z"
    }
   },
   "id": "4af6a25c02038449",
   "execution_count": 11
  },
  {
   "cell_type": "code",
   "outputs": [
    {
     "name": "stderr",
     "output_type": "stream",
     "text": [
      "Failed memoization speedup attempt due to Pandas internal hash function failing. Continuing without memoization speedups.This is fine, but for speedups around skipping re-uploads of previously seen tables, try identifying which columns have types that Pandas cannot hash, and convert them to hashable types like strings."
     ]
    },
    {
     "data": {
      "text/plain": "<IPython.core.display.HTML object>",
      "text/html": "\n            <iframe id=\"1894cfb0-d20e-498a-abbc-f22253c9c6bd\" src=\"https://hub.graphistry.com/graph/graph.html?dataset=0e42d918d50849ce8914454a668016fd&type=arrow&viztoken=bb80a973-c5b5-46c1-a349-50003d1e66ce&usertag=8affdeeb-pygraphistry-0.33.5&splashAfter=1711095224&info=true\"\n                    allowfullscreen=\"true\" webkitallowfullscreen=\"true\" mozallowfullscreen=\"true\"\n                    oallowfullscreen=\"true\" msallowfullscreen=\"true\"\n                    style=\"width:100%; height:500px; border: 1px solid #DDD; overflow: hidden\"\n                    \n            >\n            </iframe>\n        \n            <script>\n                try {\n                  $(\"#1894cfb0-d20e-498a-abbc-f22253c9c6bd\").bind('mousewheel', function(e) { e.preventDefault(); });\n                } catch (e) { console.error('exn catching scroll', e); }\n            </script>\n        "
     },
     "execution_count": 38,
     "metadata": {},
     "output_type": "execute_result"
    }
   ],
   "source": [
    "graph_train = graphistry.edges(graph_train_networkx, source='source', destination='target')\n",
    "graph_train.plot()"
   ],
   "metadata": {
    "collapsed": false,
    "ExecuteTime": {
     "end_time": "2024-03-22T08:13:30.006050Z",
     "start_time": "2024-03-22T08:12:56.229021Z"
    }
   },
   "id": "c129884f41b0b8a6",
   "execution_count": 38
  },
  {
   "cell_type": "code",
   "outputs": [
    {
     "name": "stderr",
     "output_type": "stream",
     "text": [
      "Failed memoization speedup attempt due to Pandas internal hash function failing. Continuing without memoization speedups.This is fine, but for speedups around skipping re-uploads of previously seen tables, try identifying which columns have types that Pandas cannot hash, and convert them to hashable types like strings."
     ]
    },
    {
     "data": {
      "text/plain": "<IPython.core.display.HTML object>",
      "text/html": "\n            <iframe id=\"27159e4b-8b29-403d-9bdc-87ff58d9faf0\" src=\"https://hub.graphistry.com/graph/graph.html?dataset=0ddf25b424fc4f9faeb1694b6cdb8c10&type=arrow&viztoken=3f471de9-1b8d-4e00-81ab-dd34689fc58f&usertag=8affdeeb-pygraphistry-0.33.5&splashAfter=1711095361&info=true\"\n                    allowfullscreen=\"true\" webkitallowfullscreen=\"true\" mozallowfullscreen=\"true\"\n                    oallowfullscreen=\"true\" msallowfullscreen=\"true\"\n                    style=\"width:100%; height:500px; border: 1px solid #DDD; overflow: hidden\"\n                    \n            >\n            </iframe>\n        \n            <script>\n                try {\n                  $(\"#27159e4b-8b29-403d-9bdc-87ff58d9faf0\").bind('mousewheel', function(e) { e.preventDefault(); });\n                } catch (e) { console.error('exn catching scroll', e); }\n            </script>\n        "
     },
     "execution_count": 39,
     "metadata": {},
     "output_type": "execute_result"
    }
   ],
   "source": [
    "graph_test = graphistry.edges(graph_test_networkx, source='source', destination='target')\n",
    "graph_train.plot()"
   ],
   "metadata": {
    "collapsed": false,
    "ExecuteTime": {
     "end_time": "2024-03-22T08:15:46.303321Z",
     "start_time": "2024-03-22T08:15:17.322200Z"
    }
   },
   "id": "9bb3f4a12545b247",
   "execution_count": 39
  },
  {
   "cell_type": "code",
   "outputs": [
    {
     "data": {
      "text/plain": "<BarContainer object of 7 artists>"
     },
     "execution_count": 34,
     "metadata": {},
     "output_type": "execute_result"
    },
    {
     "data": {
      "text/plain": "<Figure size 640x480 with 2 Axes>",
      "image/png": "[encoded data removed]"
     },
     "metadata": {},
     "output_type": "display_data"
    }
   ],
   "source": [
    "import matplotlib.pyplot as plt\n",
    "fig, (ax1, ax2) = plt.subplots(1, 2)\n",
    "fig.suptitle('Train                               Test')\n",
    "ax1.bar(labels_dict.values(), [[labels_dict[pred['y_true']] for pred in predictions['train']].count(label) for label in labels_dict.values()], color='blue')\n",
    "ax2.bar(labels_dict.values(), [[labels_dict[pred['y_true']] for pred in predictions['test']].count(label) for label in labels_dict.values()], color='red')"
   ],
   "metadata": {
    "collapsed": false,
    "ExecuteTime": {
     "end_time": "2024-03-21T19:38:02.062642Z",
     "start_time": "2024-03-21T19:38:01.850533Z"
    }
   },
   "id": "5fb8b39f9c15e789",
   "execution_count": 34
  },
  {
   "cell_type": "code",
   "outputs": [],
   "source": [],
   "metadata": {
    "collapsed": false
   },
   "id": "9f2f4d11dc792b9e"
  }
 ],
 "metadata": {
  "kernelspec": {
   "display_name": "Python 3",
   "language": "python",
   "name": "python3"
  },
  "language_info": {
   "codemirror_mode": {
    "name": "ipython",
    "version": 2
   },
   "file_extension": ".py",
   "mimetype": "text/x-python",
   "name": "python",
   "nbconvert_exporter": "python",
   "pygments_lexer": "ipython2",
   "version": "2.7.6"
  }
 },
 "nbformat": 4,
 "nbformat_minor": 5
}
